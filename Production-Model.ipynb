{
 "cells": [
  {
   "cell_type": "code",
   "execution_count": 1,
   "id": "a25e7c11-f0b5-4552-92b0-ee72e53de7b5",
   "metadata": {},
   "outputs": [],
   "source": [
    "import pandas as pd\n",
    "import numpy as np\n",
    "import joblib\n",
    "from sklearn.preprocessing import StandardScaler\n",
    "from xgboost import XGBClassifier"
   ]
  },
  {
   "cell_type": "code",
   "execution_count": 2,
   "id": "deb76ba5-cafd-4680-b2e1-b58685b32fd8",
   "metadata": {},
   "outputs": [],
   "source": [
    "def cargar_datos(ruta):\n",
    "    df = pd.read_csv(ruta)\n",
    "    return df"
   ]
  },
  {
   "cell_type": "code",
   "execution_count": 3,
   "id": "f4b17aba-a03d-4600-be4d-22bbca1c5b93",
   "metadata": {},
   "outputs": [],
   "source": [
    "def limpiar_datos(df):\n",
    "    df = df.drop_duplicates()\n",
    "    df = df.dropna(subset=['feature1', 'feature2'])  # Ajusta columnas según tu dataset\n",
    "    return df"
   ]
  },
  {
   "cell_type": "code",
   "execution_count": 4,
   "id": "a0740954-f84f-4a15-80e4-17fcb4b61a2e",
   "metadata": {},
   "outputs": [],
   "source": [
    "def transformar_datos(df, scaler=None):\n",
    "    df['date'] = pd.to_datetime(df['date'])\n",
    "    df['feature1_log'] = np.log1p(df['feature1'])\n",
    "    if scaler is None:\n",
    "        scaler = StandardScaler()\n",
    "        df[['feature1_scaled', 'feature2_scaled']] = scaler.fit_transform(df[['feature1', 'feature2']])\n",
    "    else:\n",
    "        df[['feature1_scaled', 'feature2_scaled']] = scaler.transform(df[['feature1', 'feature2']])\n",
    "    return df, scaler"
   ]
  },
  {
   "cell_type": "code",
   "execution_count": 5,
   "id": "9446b34d-025e-42b6-bc95-40ac7cec196e",
   "metadata": {},
   "outputs": [],
   "source": [
    "def entrenar_modelo(df):\n",
    "    X = df[['feature1_scaled', 'feature2_scaled']]\n",
    "    y = df['target']\n",
    "    modelo = XGBClassifier(eval_metric='logloss', random_state=42)\n",
    "    modelo.fit(X, y)\n",
    "    return modelo"
   ]
  },
  {
   "cell_type": "code",
   "execution_count": 6,
   "id": "059bf40e-4189-4c80-9918-97be279d53ee",
   "metadata": {},
   "outputs": [],
   "source": [
    "def guardar_modelo(modelo, scaler, ruta_modelo, ruta_scaler):\n",
    "    joblib.dump(modelo, ruta_modelo)\n",
    "    joblib.dump(scaler, ruta_scaler)"
   ]
  },
  {
   "cell_type": "code",
   "execution_count": 7,
   "id": "02a0abdc-8174-4783-9ad0-f5adaf3b7221",
   "metadata": {},
   "outputs": [],
   "source": [
    "def cargar_modelo(ruta_modelo, ruta_scaler):\n",
    "    modelo = joblib.load(ruta_modelo)\n",
    "    scaler = joblib.load(ruta_scaler)\n",
    "    return modelo, scaler"
   ]
  },
  {
   "cell_type": "code",
   "execution_count": 8,
   "id": "9101c685-fe55-4c37-8120-c2cdde73abed",
   "metadata": {},
   "outputs": [],
   "source": [
    "def predecir(modelo, scaler, nuevos_datos_csv):\n",
    "    df_nuevos = pd.read_csv(nuevos_datos_csv)\n",
    "    df_nuevos = limpiar_datos(df_nuevos)\n",
    "    df_nuevos['date'] = pd.to_datetime(df_nuevos['date'])\n",
    "    df_nuevos['feature1_log'] = np.log1p(df_nuevos['feature1'])\n",
    "    df_nuevos[['feature1_scaled', 'feature2_scaled']] = scaler.transform(df_nuevos[['feature1', 'feature2']])\n",
    "    X_nuevos = df_nuevos[['feature1_scaled', 'feature2_scaled']]\n",
    "    preds = modelo.predict(X_nuevos)\n",
    "    return preds"
   ]
  },
  {
   "cell_type": "code",
   "execution_count": null,
   "id": "d053c24e-3d52-4133-8801-62e0c124efd8",
   "metadata": {},
   "outputs": [],
   "source": [
    "if __name__ == \"__main__\":\n",
    "    # Ruta a tus archivos CSV - Modificar en produccion\n",
    "    ruta_datos = 'datos_financieros.csv'\n",
    "    ruta_nuevos_datos = 'nuevos_datos.csv'\n",
    "    ruta_modelo = 'modelo_financiero.pkl'\n",
    "    ruta_scaler = 'scaler_financiero.pkl'\n",
    "\n",
    "    # Carga y preparación de datos\n",
    "    df = cargar_datos(ruta_datos)\n",
    "    df = limpiar_datos(df)\n",
    "    df, scaler = transformar_datos(df)\n",
    "\n",
    "    # Entrenamiento y guardado del modelo\n",
    "    modelo = entrenar_modelo(df)\n",
    "    guardar_modelo(modelo, scaler, ruta_modelo, ruta_scaler)\n",
    "    print(\"Modelo entrenado y guardado correctamente.\")\n",
    "\n",
    "    # Predicción con nuevos datos\n",
    "    preds = predecir(modelo, scaler, ruta_nuevos_datos)\n",
    "    print(\"Predicciones en nuevos datos:\", preds)"
   ]
  }
 ],
 "metadata": {
  "kernelspec": {
   "display_name": "Python 3 (ipykernel)",
   "language": "python",
   "name": "python3"
  },
  "language_info": {
   "codemirror_mode": {
    "name": "ipython",
    "version": 3
   },
   "file_extension": ".py",
   "mimetype": "text/x-python",
   "name": "python",
   "nbconvert_exporter": "python",
   "pygments_lexer": "ipython3",
   "version": "3.11.0"
  }
 },
 "nbformat": 4,
 "nbformat_minor": 5
}
